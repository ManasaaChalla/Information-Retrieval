{
 "cells": [
  {
   "cell_type": "code",
   "execution_count": 16,
   "metadata": {},
   "outputs": [],
   "source": [
    "from tweepy import OAuthHandler\n",
    "from tweepy.streaming import StreamListener\n",
    "import tweepy\n",
    "import json\n",
    "import pandas as pd\n",
    "import csv\n",
    "import re\n",
    "from textblob import TextBlob\n",
    "import string\n",
    "import preprocessor as p\n",
    "import os\n",
    "import time"
   ]
  },
  {
   "cell_type": "code",
   "execution_count": 26,
   "metadata": {},
   "outputs": [],
   "source": [
    "# Twitter credentials\n",
    "# Obtain them from your twitter developer account\n",
    "consumer_key = \"Cmzu3Ae652CMqg1GjLp9jItln\"\n",
    "consumer_secret = \"zKjchoElqhGPGoeO0CT5fDexzlNMp2574jUrVl1j8rPKjDRHJI\"\n",
    "access_key = \"1301496986017783808-cZ0AFGnj7lfksV7TWRgIwcPd7vtORO\"\n",
    "access_secret = \"cVqXqNK7bhH3dK75cnff0TAEeMnxAQKomwnq0f7KjPhLa\"\n",
    "\n",
    "# Pass your twitter credentials to tweepy via its OAuthHandler\n",
    "auth = OAuthHandler(consumer_key, consumer_secret)\n",
    "auth.set_access_token(access_key, access_secret)\n",
    "api = tweepy.API(auth,wait_on_rate_limit=True)"
   ]
  },
  {
   "cell_type": "code",
   "execution_count": 27,
   "metadata": {},
   "outputs": [],
   "source": [
    "lol = None\n",
    "def scraptweets(search_words, date_since, numTweets, numRuns):\n",
    "    global lol\n",
    "    # Define a for-loop to generate tweets at regular intervals\n",
    "    # We cannot make large API call in one go. Hence, let's try T times\n",
    "    # Define a pandas dataframe to store the date:\n",
    "    db_tweets = pd.DataFrame(columns = ['tweet_date','poi_id','poi_name','tweet_text','country','tweet_lang','hashtags','verified','tweet_urls','mentions','retweetcount'])\n",
    "    program_start = time.time()\n",
    "    for i in range(0, numRuns):\n",
    "        # We will time how long it takes to scrape tweets for each run:\n",
    "        start_run = time.time()\n",
    "\n",
    "\n",
    "       \n",
    "        # Collect tweets using the Cursor object\n",
    "        # .Cursor() returns an object that you can iterate or loop over to access the data collected.\n",
    "        # Each item in the iterator has various attributes that you can access to get information about each tweet\n",
    "        #tweets = tweepy.Cursor(api.search, q=(search_words), lang=\"hi\", since=date_since, tweet_mode='extended').items(numTweets)\n",
    "        tweets = tweepy.Cursor(api.user_timeline, screen_name='@AmitShah',since=date_since, tweet_mode=\"extended\").items(numTweets)\n",
    "        # Store these tweets into a python list\n",
    "        tweet_list = [tweet for tweet in tweets]\n",
    "# Obtain the following info (methods to call them out):\n",
    "        # user.screen_name - twitter handle\n",
    "        # user.description - description of account\n",
    "        # user.location - where is he tweeting from\n",
    "        # user.friends_count - no. of other users that user is following (following)\n",
    "        # user.followers_count - no. of other users who are following this user (followers)\n",
    "        # user.statuses_count - total tweets by user\n",
    "        # user.created_at - when the user account was created\n",
    "        # created_at - when the tweet was created\n",
    "        # retweet_count - no. of retweets\n",
    "        # (deprecated) user.favourites_count - probably total no. of tweets that is favourited by user\n",
    "        # retweeted_status.full_text - full text of the tweet\n",
    "        # tweet.entities['hashtags'] - hashtags in the tweet\n",
    "# Begin scraping the tweets individually:\n",
    "        noTweets = 0\n",
    "        for tweet in tweet_list:\n",
    "    \n",
    "    \n",
    "            #if api.verify_credentials() == False: \n",
    "            #    ver='false' \n",
    "            #else: \n",
    "             #   ver='true' \n",
    "# Pull the values\n",
    "            tweet_date = tweet.created_at\n",
    "            poi_id = tweet.user.id\n",
    "            poi_name = tweet.user.screen_name\n",
    "            try:\n",
    "                tweet_text = tweet.retweeted_status.full_text\n",
    "            except AttributeError:  # Not a Retweet\n",
    "                tweet_text = tweet.full_text\n",
    "            country = \"India\"\n",
    "            tweet_lang = tweet.lang\n",
    "            hashtags = tweet.entities['hashtags']\n",
    "            verified = tweet.user.verified\n",
    "            tweet_urls = tweet.entities['urls']\n",
    "            mentions = tweet.entities['user_mentions']\n",
    "            retweetcount = tweet.retweet_count\n",
    "            \n",
    "# Add the 11 variables to the empty list - ith_tweet:\n",
    "            ith_tweet = [tweet_date,poi_id,poi_name,tweet_text,country,tweet_lang,hashtags,verified,tweet_urls,mentions,retweetcount]\n",
    "# Append to dataframe - db_tweets\n",
    "            db_tweets.loc[len(db_tweets)] = ith_tweet\n",
    "# increase counter - noTweets  \n",
    "            noTweets += 1\n",
    "        \n",
    "        # Run ended:\n",
    "        end_run = time.time()\n",
    "        duration_run = round((end_run-start_run)/60, 2)\n",
    "        \n",
    "        print('no. of tweets scraped for run {} is {}'.format(i + 1, noTweets))\n",
    "        print('time take for {} run to complete is {} mins'.format(i+1, duration_run))\n",
    "        \n",
    "    #    time.s+leep(920) #15 minute sleep time\n",
    "# Once all runs have completed, save them to a single csv file:\n",
    "    from datetime import datetime\n",
    "    \n",
    "    # Obtain timestamp in a readable format\n",
    "   # to_csv_timestamp = datetime.today().strftime('%Y%m%d_%H%M%S')\n",
    "# Define working path and filename\n",
    "    #path = os.getcwd()\n",
    "# Store dataframe in csv with creation date timestamp\n",
    "#    db_tweets.to_csv(filename, index = False)\n",
    "    db_tweets.tweet_date = db_tweets.tweet_date.astype(str)\n",
    "    lol = db_tweets.to_dict(orient='records')\n",
    "   # db_tweets.to_json(r'/Users/manasachalla/Desktop/IRProject/data1.json')\n",
    "   \n",
    "    program_end = time.time()\n",
    "    print('Scraping has completed!')\n",
    "    print('Total time taken to scrape is {} minutes.'.format(round(program_end - program_start)/60, 2))"
   ]
  },
  {
   "cell_type": "code",
   "execution_count": 28,
   "metadata": {},
   "outputs": [
    {
     "name": "stdout",
     "output_type": "stream",
     "text": [
      "no. of tweets scraped for run 1 is 3000\n",
      "time take for 1 run to complete is 2.01 mins\n",
      "Scraping has completed!\n",
      "Total time taken to scrape is 2.0166666666666666 minutes.\n"
     ]
    }
   ],
   "source": [
    "search_words = \"#covid19\"\n",
    "date_since = \"2020-07-07\"\n",
    "numTweets = 3000\n",
    "numRuns = 1\n",
    "scraptweets(search_words, date_since, numTweets, numRuns)\n"
   ]
  },
  {
   "cell_type": "code",
   "execution_count": 29,
   "metadata": {},
   "outputs": [
    {
     "data": {
      "text/plain": [
       "{'tweet_date': '2020-09-20 13:16:03',\n",
       " 'poi_id': 1447949844,\n",
       " 'poi_name': 'AmitShah',\n",
       " 'tweet_text': 'मोदी सरकार के यह कृषि सुधार हमारे किसान भाइयों का हक मारने वाले बिचौलियों से उन्हें मुक्त करेंगे और साथ ही उनकी उपज को कहीं भी बेचने व उसका सही दाम दिलवाकर उनकी आय बढ़ाने में एक सकारात्मक भूमिका निभाएँगे।\\n\\nइस निर्णय के बाद भी MSP की व्यवस्था बनी रहेगी व सरकारी खरीद भी जारी रहेगी।',\n",
       " 'country': 'India',\n",
       " 'tweet_lang': 'hi',\n",
       " 'hashtags': [],\n",
       " 'verified': True,\n",
       " 'tweet_urls': [],\n",
       " 'mentions': [],\n",
       " 'retweetcount': 3230}"
      ]
     },
     "execution_count": 29,
     "metadata": {},
     "output_type": "execute_result"
    }
   ],
   "source": [
    "lol[0]"
   ]
  },
  {
   "cell_type": "code",
   "execution_count": 30,
   "metadata": {},
   "outputs": [],
   "source": [
    "with open('AmitShah.json', 'w') as fout:\n",
    "    json.dump(lol , fout)"
   ]
  },
  {
   "cell_type": "code",
   "execution_count": null,
   "metadata": {},
   "outputs": [],
   "source": []
  }
 ],
 "metadata": {
  "kernelspec": {
   "display_name": "Python 3",
   "language": "python",
   "name": "python3"
  },
  "language_info": {
   "codemirror_mode": {
    "name": "ipython",
    "version": 3
   },
   "file_extension": ".py",
   "mimetype": "text/x-python",
   "name": "python",
   "nbconvert_exporter": "python",
   "pygments_lexer": "ipython3",
   "version": "3.8.3"
  }
 },
 "nbformat": 4,
 "nbformat_minor": 4
}
