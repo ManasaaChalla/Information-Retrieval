{
 "cells": [
  {
   "cell_type": "code",
   "execution_count": null,
   "metadata": {},
   "outputs": [],
   "source": [
    "consumer_key = \"TTvIwiDnFbwFUTK7n7CzsZJ0B\"\n",
    "consumer_secret = \"kaCtow5UqOcsEHpQE3t8BjEv4WPTwaPCRq2o04c36a4mG2BG0E\"\n",
    "access_token = \"1301496986017783808-IAKttTn6XumGG75887HEYSv66QvRqJ\"\n",
    "access_token_secret = \"HTiKDsBJ6aIcwWnZm3tIskTh4KylKv2p8KbIBCOnubwOp\""
   ]
  }
 ],
 "metadata": {
  "kernelspec": {
   "display_name": "Python 3",
   "language": "python",
   "name": "python3"
  },
  "language_info": {
   "codemirror_mode": {
    "name": "ipython",
    "version": 3
   },
   "file_extension": ".py",
   "mimetype": "text/x-python",
   "name": "python",
   "nbconvert_exporter": "python",
   "pygments_lexer": "ipython3",
   "version": "3.8.3"
  }
 },
 "nbformat": 4,
 "nbformat_minor": 4
}
